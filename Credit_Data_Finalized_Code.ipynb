{
 "cells": [
  {
   "cell_type": "code",
   "execution_count": 60,
   "id": "d9d2acc9",
   "metadata": {},
   "outputs": [],
   "source": [
    "#%run Credit_DataWrangling.ipynb"
   ]
  },
  {
   "cell_type": "code",
   "execution_count": 61,
   "id": "64ae0c6c",
   "metadata": {},
   "outputs": [],
   "source": [
    "#%run Credit_DataEDA.ipynb"
   ]
  },
  {
   "cell_type": "code",
   "execution_count": 62,
   "id": "9e13149a",
   "metadata": {},
   "outputs": [],
   "source": [
    "#%run Credit_DataPreprocessingandTrainingDataDevelopment.ipynb"
   ]
  },
  {
   "cell_type": "code",
   "execution_count": 21,
   "id": "658e30b7",
   "metadata": {},
   "outputs": [],
   "source": [
    "#%run Credit_DataModeling.ipynb"
   ]
  },
  {
   "cell_type": "code",
   "execution_count": 22,
   "id": "33af8044",
   "metadata": {},
   "outputs": [],
   "source": [
    "#In order to use the train_test_split, first we must import it from sklearn's model_selection\n",
    "#To use the support vector classifier, we must import it from sklearn's svm\n",
    "#To get a view of the metric readings and proper prediction diagram display, we must import confusion_matrix and \n",
    "#classification_report from sklearn's metrics\n",
    "\n",
    "from sklearn.model_selection import train_test_split\n",
    "from sklearn.svm import SVC\n",
    "from sklearn.metrics import confusion_matrix, classification_report"
   ]
  },
  {
   "cell_type": "code",
   "execution_count": 23,
   "id": "5f99a0f5",
   "metadata": {},
   "outputs": [
    {
     "data": {
      "text/html": [
       "<div>\n",
       "<style scoped>\n",
       "    .dataframe tbody tr th:only-of-type {\n",
       "        vertical-align: middle;\n",
       "    }\n",
       "\n",
       "    .dataframe tbody tr th {\n",
       "        vertical-align: top;\n",
       "    }\n",
       "\n",
       "    .dataframe thead th {\n",
       "        text-align: right;\n",
       "    }\n",
       "</style>\n",
       "<table border=\"1\" class=\"dataframe\">\n",
       "  <thead>\n",
       "    <tr style=\"text-align: right;\">\n",
       "      <th></th>\n",
       "      <th>class</th>\n",
       "      <th>checking_status_0&lt;=X&lt;200</th>\n",
       "      <th>checking_status_&lt;0</th>\n",
       "      <th>checking_status_&gt;=200</th>\n",
       "      <th>checking_status_no checking</th>\n",
       "    </tr>\n",
       "  </thead>\n",
       "  <tbody>\n",
       "    <tr>\n",
       "      <th>0</th>\n",
       "      <td>good</td>\n",
       "      <td>0</td>\n",
       "      <td>1</td>\n",
       "      <td>0</td>\n",
       "      <td>0</td>\n",
       "    </tr>\n",
       "    <tr>\n",
       "      <th>1</th>\n",
       "      <td>bad</td>\n",
       "      <td>1</td>\n",
       "      <td>0</td>\n",
       "      <td>0</td>\n",
       "      <td>0</td>\n",
       "    </tr>\n",
       "    <tr>\n",
       "      <th>2</th>\n",
       "      <td>good</td>\n",
       "      <td>0</td>\n",
       "      <td>0</td>\n",
       "      <td>0</td>\n",
       "      <td>1</td>\n",
       "    </tr>\n",
       "    <tr>\n",
       "      <th>3</th>\n",
       "      <td>good</td>\n",
       "      <td>0</td>\n",
       "      <td>1</td>\n",
       "      <td>0</td>\n",
       "      <td>0</td>\n",
       "    </tr>\n",
       "    <tr>\n",
       "      <th>4</th>\n",
       "      <td>bad</td>\n",
       "      <td>0</td>\n",
       "      <td>1</td>\n",
       "      <td>0</td>\n",
       "      <td>0</td>\n",
       "    </tr>\n",
       "  </tbody>\n",
       "</table>\n",
       "</div>"
      ],
      "text/plain": [
       "  class  checking_status_0<=X<200  checking_status_<0  checking_status_>=200  \\\n",
       "0  good                         0                   1                      0   \n",
       "1   bad                         1                   0                      0   \n",
       "2  good                         0                   0                      0   \n",
       "3  good                         0                   1                      0   \n",
       "4   bad                         0                   1                      0   \n",
       "\n",
       "   checking_status_no checking  \n",
       "0                            0  \n",
       "1                            0  \n",
       "2                            1  \n",
       "3                            0  \n",
       "4                            0  "
      ]
     },
     "execution_count": 23,
     "metadata": {},
     "output_type": "execute_result"
    }
   ],
   "source": [
    "#Getting a quick glance of this dataset where the checking status of the credit applicants is the main focus to determine\n",
    "#how much this feature factors into whether the applicant is classed as good or bad for a credit loan\n",
    "\n",
    "checking_status_one_hot.head()"
   ]
  },
  {
   "cell_type": "code",
   "execution_count": 24,
   "id": "ef8632ed",
   "metadata": {},
   "outputs": [
    {
     "name": "stdout",
     "output_type": "stream",
     "text": [
      "<class 'pandas.core.frame.DataFrame'>\n",
      "RangeIndex: 1000 entries, 0 to 999\n",
      "Data columns (total 5 columns):\n",
      " #   Column                       Non-Null Count  Dtype \n",
      "---  ------                       --------------  ----- \n",
      " 0   class                        1000 non-null   object\n",
      " 1   checking_status_0<=X<200     1000 non-null   uint8 \n",
      " 2   checking_status_<0           1000 non-null   uint8 \n",
      " 3   checking_status_>=200        1000 non-null   uint8 \n",
      " 4   checking_status_no checking  1000 non-null   uint8 \n",
      "dtypes: object(1), uint8(4)\n",
      "memory usage: 11.8+ KB\n"
     ]
    }
   ],
   "source": [
    "#Making use of the info method to get a reading of the data within this dataframe such as its columns, the non-null counts,\n",
    "#and the data types\n",
    "\n",
    "checking_status_one_hot.info()"
   ]
  },
  {
   "cell_type": "code",
   "execution_count": 25,
   "id": "9c641324",
   "metadata": {},
   "outputs": [],
   "source": [
    "#Splitting the data into X and y variables to be used in the train_test_split function; the X variable holds the features\n",
    "#with the numerical data to predict the categories in the y variable which holds the feature with the labels.\n",
    "#Some preprocessing of the data set is required such as dropping unnecessary features(columns) and making sure to drop any\n",
    "#null values as the SVM cannot use or recognize these values; it also interferes with the functioning of the classifier. \n",
    "#Preprocessing of the data is also useful to modify the dataset to both fit and address the hypothesis we wish to answer.\n",
    "\n",
    "X = checking_status_one_hot.drop('class', axis=1)\n",
    "\n",
    "y = checking_status_one_hot['class']"
   ]
  },
  {
   "cell_type": "code",
   "execution_count": null,
   "id": "f8131ffa",
   "metadata": {},
   "outputs": [],
   "source": [
    "#I ultimately decided upon the Gaussian SVM model as the data I'm working with to address the problem identification is best\n",
    "#suited for an algorithm built for complex and non-linear patterns within a dataset. Also, the gaussian kernel performed the\n",
    "#best overall and produced the best results for the dataset."
   ]
  },
  {
   "cell_type": "code",
   "execution_count": 26,
   "id": "389b62c5",
   "metadata": {},
   "outputs": [],
   "source": [
    "#Splitting the X and y variables into train and test sets with the train_test_split function, and setting the test size to\n",
    "#20% of data\n",
    "\n",
    "X_train, X_test, y_train, y_test = train_test_split(X, y, test_size=0.20)"
   ]
  },
  {
   "cell_type": "code",
   "execution_count": 27,
   "id": "7aa6e866",
   "metadata": {},
   "outputs": [],
   "source": [
    "#Gaussian Kernel\n",
    "#To use the Gaussian kernel, the kernel parameter in the SVC function must be set to 'rbf'\n",
    "#Need to use the fit method to fit the SVM model according to the data\n",
    "\n",
    "svclassifier2 = SVC(kernel='rbf')\n",
    "svclassifier2.fit(X_train, y_train);"
   ]
  },
  {
   "cell_type": "code",
   "execution_count": 28,
   "id": "7365d456",
   "metadata": {},
   "outputs": [],
   "source": [
    "#Making the prediction based on the X_test set. The predict method of the SVM object is used to do this\n",
    "\n",
    "ypred2 = svclassifier2.predict(X_test)"
   ]
  },
  {
   "cell_type": "code",
   "execution_count": 33,
   "id": "f9a59332",
   "metadata": {},
   "outputs": [
    {
     "name": "stdout",
     "output_type": "stream",
     "text": [
      "[[  0  73]\n",
      " [  0 127]]\n",
      "              precision    recall  f1-score   support\n",
      "\n",
      "         bad       1.00      0.00      0.00        73\n",
      "        good       0.64      1.00      0.78       127\n",
      "\n",
      "    accuracy                           0.64       200\n",
      "   macro avg       0.82      0.50      0.39       200\n",
      "weighted avg       0.77      0.64      0.49       200\n",
      "\n"
     ]
    }
   ],
   "source": [
    "#Evaluations for the Gaussian kernel - The Gaussian kernel was overall the best in performance for the dataset as it \n",
    "#achieves the highest scores and best classifications throughout.\n",
    "#The confusion_matrix function takes the y test and y prediction and outputs the mini-diagram below to illustrate the \n",
    "#prediction performance of the model.\n",
    "#The classification_report also takes the y test and y prediction and outputs various metric scores of the model\n",
    "#performance; most notably precision, recall, f1-score, and accuracy.\n",
    "#Originally did not encounter the zero_division problem in the original run in the Credit_DataModeling file\n",
    "\n",
    "print(confusion_matrix(y_test, y_pred2))\n",
    "print(classification_report(y_test, y_pred2, zero_division=1))"
   ]
  },
  {
   "cell_type": "code",
   "execution_count": 34,
   "id": "491364c2",
   "metadata": {},
   "outputs": [
    {
     "data": {
      "text/html": [
       "<div>\n",
       "<style scoped>\n",
       "    .dataframe tbody tr th:only-of-type {\n",
       "        vertical-align: middle;\n",
       "    }\n",
       "\n",
       "    .dataframe tbody tr th {\n",
       "        vertical-align: top;\n",
       "    }\n",
       "\n",
       "    .dataframe thead th {\n",
       "        text-align: right;\n",
       "    }\n",
       "</style>\n",
       "<table border=\"1\" class=\"dataframe\">\n",
       "  <thead>\n",
       "    <tr style=\"text-align: right;\">\n",
       "      <th></th>\n",
       "      <th>class</th>\n",
       "      <th>credit_history_all paid</th>\n",
       "      <th>credit_history_critical/other existing credit</th>\n",
       "      <th>credit_history_delayed previously</th>\n",
       "      <th>credit_history_existing paid</th>\n",
       "      <th>credit_history_no credits/all paid</th>\n",
       "    </tr>\n",
       "  </thead>\n",
       "  <tbody>\n",
       "    <tr>\n",
       "      <th>0</th>\n",
       "      <td>good</td>\n",
       "      <td>0</td>\n",
       "      <td>1</td>\n",
       "      <td>0</td>\n",
       "      <td>0</td>\n",
       "      <td>0</td>\n",
       "    </tr>\n",
       "    <tr>\n",
       "      <th>1</th>\n",
       "      <td>bad</td>\n",
       "      <td>0</td>\n",
       "      <td>0</td>\n",
       "      <td>0</td>\n",
       "      <td>1</td>\n",
       "      <td>0</td>\n",
       "    </tr>\n",
       "    <tr>\n",
       "      <th>2</th>\n",
       "      <td>good</td>\n",
       "      <td>0</td>\n",
       "      <td>1</td>\n",
       "      <td>0</td>\n",
       "      <td>0</td>\n",
       "      <td>0</td>\n",
       "    </tr>\n",
       "    <tr>\n",
       "      <th>3</th>\n",
       "      <td>good</td>\n",
       "      <td>0</td>\n",
       "      <td>0</td>\n",
       "      <td>0</td>\n",
       "      <td>1</td>\n",
       "      <td>0</td>\n",
       "    </tr>\n",
       "    <tr>\n",
       "      <th>4</th>\n",
       "      <td>bad</td>\n",
       "      <td>0</td>\n",
       "      <td>0</td>\n",
       "      <td>1</td>\n",
       "      <td>0</td>\n",
       "      <td>0</td>\n",
       "    </tr>\n",
       "  </tbody>\n",
       "</table>\n",
       "</div>"
      ],
      "text/plain": [
       "  class  credit_history_all paid  \\\n",
       "0  good                        0   \n",
       "1   bad                        0   \n",
       "2  good                        0   \n",
       "3  good                        0   \n",
       "4   bad                        0   \n",
       "\n",
       "   credit_history_critical/other existing credit  \\\n",
       "0                                              1   \n",
       "1                                              0   \n",
       "2                                              1   \n",
       "3                                              0   \n",
       "4                                              0   \n",
       "\n",
       "   credit_history_delayed previously  credit_history_existing paid  \\\n",
       "0                                  0                             0   \n",
       "1                                  0                             1   \n",
       "2                                  0                             0   \n",
       "3                                  0                             1   \n",
       "4                                  1                             0   \n",
       "\n",
       "   credit_history_no credits/all paid  \n",
       "0                                   0  \n",
       "1                                   0  \n",
       "2                                   0  \n",
       "3                                   0  \n",
       "4                                   0  "
      ]
     },
     "execution_count": 34,
     "metadata": {},
     "output_type": "execute_result"
    }
   ],
   "source": [
    "#The dataset where the credit_history of the credit loan applicants is the feature in focus to determine the influential\n",
    "#factor of this feature on whether the applicant is classified as good or bad.\n",
    "\n",
    "credit_history_one_hot.head()"
   ]
  },
  {
   "cell_type": "code",
   "execution_count": 35,
   "id": "f90d27c5",
   "metadata": {},
   "outputs": [
    {
     "name": "stdout",
     "output_type": "stream",
     "text": [
      "<class 'pandas.core.frame.DataFrame'>\n",
      "RangeIndex: 1000 entries, 0 to 999\n",
      "Data columns (total 6 columns):\n",
      " #   Column                                         Non-Null Count  Dtype \n",
      "---  ------                                         --------------  ----- \n",
      " 0   class                                          1000 non-null   object\n",
      " 1   credit_history_all paid                        1000 non-null   uint8 \n",
      " 2   credit_history_critical/other existing credit  1000 non-null   uint8 \n",
      " 3   credit_history_delayed previously              1000 non-null   uint8 \n",
      " 4   credit_history_existing paid                   1000 non-null   uint8 \n",
      " 5   credit_history_no credits/all paid             1000 non-null   uint8 \n",
      "dtypes: object(1), uint8(5)\n",
      "memory usage: 12.8+ KB\n"
     ]
    }
   ],
   "source": [
    "credit_history_one_hot.info()"
   ]
  },
  {
   "cell_type": "code",
   "execution_count": 36,
   "id": "122dcf8a",
   "metadata": {},
   "outputs": [],
   "source": [
    "X_2 = credit_history_one_hot.drop('class', axis=1)\n",
    "\n",
    "y_2 = credit_history_one_hot['class']"
   ]
  },
  {
   "cell_type": "code",
   "execution_count": 37,
   "id": "b417e575",
   "metadata": {},
   "outputs": [],
   "source": [
    "X_train_2, X_test_2, y_train_2, y_test_2 = train_test_split(X_2, y_2, test_size=0.20)"
   ]
  },
  {
   "cell_type": "code",
   "execution_count": 41,
   "id": "a01d35ed",
   "metadata": {},
   "outputs": [],
   "source": [
    "svclassifier_5 = SVC(kernel='rbf')\n",
    "svclassifier_5.fit(X_train_2, y_train_2);"
   ]
  },
  {
   "cell_type": "code",
   "execution_count": 42,
   "id": "cd27a2d3",
   "metadata": {},
   "outputs": [],
   "source": [
    "y_pred_5 = svclassifier_5.predict(X_test_2)"
   ]
  },
  {
   "cell_type": "code",
   "execution_count": 43,
   "id": "038708ec",
   "metadata": {},
   "outputs": [
    {
     "name": "stdout",
     "output_type": "stream",
     "text": [
      "[[  7  50]\n",
      " [  8 135]]\n",
      "              precision    recall  f1-score   support\n",
      "\n",
      "         bad       0.47      0.12      0.19        57\n",
      "        good       0.73      0.94      0.82       143\n",
      "\n",
      "    accuracy                           0.71       200\n",
      "   macro avg       0.60      0.53      0.51       200\n",
      "weighted avg       0.65      0.71      0.64       200\n",
      "\n"
     ]
    }
   ],
   "source": [
    "print(confusion_matrix(y_test_2, y_pred_5))\n",
    "print(classification_report(y_test_2, y_pred_5))"
   ]
  },
  {
   "cell_type": "code",
   "execution_count": 44,
   "id": "f9eecdf7",
   "metadata": {},
   "outputs": [
    {
     "data": {
      "text/html": [
       "<div>\n",
       "<style scoped>\n",
       "    .dataframe tbody tr th:only-of-type {\n",
       "        vertical-align: middle;\n",
       "    }\n",
       "\n",
       "    .dataframe tbody tr th {\n",
       "        vertical-align: top;\n",
       "    }\n",
       "\n",
       "    .dataframe thead th {\n",
       "        text-align: right;\n",
       "    }\n",
       "</style>\n",
       "<table border=\"1\" class=\"dataframe\">\n",
       "  <thead>\n",
       "    <tr style=\"text-align: right;\">\n",
       "      <th></th>\n",
       "      <th>class</th>\n",
       "      <th>employment_1&lt;=X&lt;4</th>\n",
       "      <th>employment_4&lt;=X&lt;7</th>\n",
       "      <th>employment_&lt;1</th>\n",
       "      <th>employment_&gt;=7</th>\n",
       "      <th>employment_unemployed</th>\n",
       "    </tr>\n",
       "  </thead>\n",
       "  <tbody>\n",
       "    <tr>\n",
       "      <th>0</th>\n",
       "      <td>good</td>\n",
       "      <td>0</td>\n",
       "      <td>0</td>\n",
       "      <td>0</td>\n",
       "      <td>1</td>\n",
       "      <td>0</td>\n",
       "    </tr>\n",
       "    <tr>\n",
       "      <th>1</th>\n",
       "      <td>bad</td>\n",
       "      <td>1</td>\n",
       "      <td>0</td>\n",
       "      <td>0</td>\n",
       "      <td>0</td>\n",
       "      <td>0</td>\n",
       "    </tr>\n",
       "    <tr>\n",
       "      <th>2</th>\n",
       "      <td>good</td>\n",
       "      <td>0</td>\n",
       "      <td>1</td>\n",
       "      <td>0</td>\n",
       "      <td>0</td>\n",
       "      <td>0</td>\n",
       "    </tr>\n",
       "    <tr>\n",
       "      <th>3</th>\n",
       "      <td>good</td>\n",
       "      <td>0</td>\n",
       "      <td>1</td>\n",
       "      <td>0</td>\n",
       "      <td>0</td>\n",
       "      <td>0</td>\n",
       "    </tr>\n",
       "    <tr>\n",
       "      <th>4</th>\n",
       "      <td>bad</td>\n",
       "      <td>1</td>\n",
       "      <td>0</td>\n",
       "      <td>0</td>\n",
       "      <td>0</td>\n",
       "      <td>0</td>\n",
       "    </tr>\n",
       "  </tbody>\n",
       "</table>\n",
       "</div>"
      ],
      "text/plain": [
       "  class  employment_1<=X<4  employment_4<=X<7  employment_<1  employment_>=7  \\\n",
       "0  good                  0                  0              0               1   \n",
       "1   bad                  1                  0              0               0   \n",
       "2  good                  0                  1              0               0   \n",
       "3  good                  0                  1              0               0   \n",
       "4   bad                  1                  0              0               0   \n",
       "\n",
       "   employment_unemployed  \n",
       "0                      0  \n",
       "1                      0  \n",
       "2                      0  \n",
       "3                      0  \n",
       "4                      0  "
      ]
     },
     "execution_count": 44,
     "metadata": {},
     "output_type": "execute_result"
    }
   ],
   "source": [
    "#The dataset where the employment history of the credit loan applicant is the focus to determine how much of an influential\n",
    "#factor this feature plays in whether the applicant is classified as good or bad.\n",
    "\n",
    "employment_data_one_hot.head()"
   ]
  },
  {
   "cell_type": "code",
   "execution_count": 45,
   "id": "2a869ae5",
   "metadata": {},
   "outputs": [
    {
     "name": "stdout",
     "output_type": "stream",
     "text": [
      "<class 'pandas.core.frame.DataFrame'>\n",
      "RangeIndex: 1000 entries, 0 to 999\n",
      "Data columns (total 6 columns):\n",
      " #   Column                 Non-Null Count  Dtype \n",
      "---  ------                 --------------  ----- \n",
      " 0   class                  1000 non-null   object\n",
      " 1   employment_1<=X<4      1000 non-null   uint8 \n",
      " 2   employment_4<=X<7      1000 non-null   uint8 \n",
      " 3   employment_<1          1000 non-null   uint8 \n",
      " 4   employment_>=7         1000 non-null   uint8 \n",
      " 5   employment_unemployed  1000 non-null   uint8 \n",
      "dtypes: object(1), uint8(5)\n",
      "memory usage: 12.8+ KB\n"
     ]
    }
   ],
   "source": [
    "employment_data_one_hot.info()"
   ]
  },
  {
   "cell_type": "code",
   "execution_count": 46,
   "id": "7915e10e",
   "metadata": {},
   "outputs": [],
   "source": [
    "X_3 = employment_data_one_hot.drop('class', axis=1)\n",
    "\n",
    "y_3 = employment_data_one_hot['class']"
   ]
  },
  {
   "cell_type": "code",
   "execution_count": 47,
   "id": "ea9ea694",
   "metadata": {},
   "outputs": [],
   "source": [
    "X_train_3, X_test_3, y_train_3, y_test_3 = train_test_split(X_3, y_3, test_size=0.20)"
   ]
  },
  {
   "cell_type": "code",
   "execution_count": 48,
   "id": "5d79f5a7",
   "metadata": {},
   "outputs": [],
   "source": [
    "svclassifier_8 = SVC(kernel='rbf')\n",
    "\n",
    "svclassifier_8.fit(X_train_3, y_train_3);"
   ]
  },
  {
   "cell_type": "code",
   "execution_count": 49,
   "id": "df226556",
   "metadata": {},
   "outputs": [],
   "source": [
    "y_pred_8 = svclassifier_8.predict(X_test_3)"
   ]
  },
  {
   "cell_type": "code",
   "execution_count": 51,
   "id": "30bcabf7",
   "metadata": {},
   "outputs": [
    {
     "name": "stdout",
     "output_type": "stream",
     "text": [
      "[[  0  62]\n",
      " [  0 138]]\n",
      "              precision    recall  f1-score   support\n",
      "\n",
      "         bad       1.00      0.00      0.00        62\n",
      "        good       0.69      1.00      0.82       138\n",
      "\n",
      "    accuracy                           0.69       200\n",
      "   macro avg       0.84      0.50      0.41       200\n",
      "weighted avg       0.79      0.69      0.56       200\n",
      "\n"
     ]
    }
   ],
   "source": [
    "print(confusion_matrix(y_test_3, y_pred_8))\n",
    "print(classification_report(y_test_3, y_pred_8, zero_division=1))"
   ]
  },
  {
   "cell_type": "code",
   "execution_count": 52,
   "id": "f6b82b77",
   "metadata": {},
   "outputs": [
    {
     "data": {
      "text/html": [
       "<div>\n",
       "<style scoped>\n",
       "    .dataframe tbody tr th:only-of-type {\n",
       "        vertical-align: middle;\n",
       "    }\n",
       "\n",
       "    .dataframe tbody tr th {\n",
       "        vertical-align: top;\n",
       "    }\n",
       "\n",
       "    .dataframe thead th {\n",
       "        text-align: right;\n",
       "    }\n",
       "</style>\n",
       "<table border=\"1\" class=\"dataframe\">\n",
       "  <thead>\n",
       "    <tr style=\"text-align: right;\">\n",
       "      <th></th>\n",
       "      <th>class</th>\n",
       "      <th>checking_status_0&lt;=X&lt;200</th>\n",
       "      <th>checking_status_&lt;0</th>\n",
       "      <th>checking_status_&gt;=200</th>\n",
       "      <th>checking_status_no checking</th>\n",
       "      <th>credit_history_all paid</th>\n",
       "      <th>credit_history_critical/other existing credit</th>\n",
       "      <th>credit_history_delayed previously</th>\n",
       "      <th>credit_history_existing paid</th>\n",
       "      <th>credit_history_no credits/all paid</th>\n",
       "      <th>employment_1&lt;=X&lt;4</th>\n",
       "      <th>employment_4&lt;=X&lt;7</th>\n",
       "      <th>employment_&lt;1</th>\n",
       "      <th>employment_&gt;=7</th>\n",
       "      <th>employment_unemployed</th>\n",
       "    </tr>\n",
       "  </thead>\n",
       "  <tbody>\n",
       "    <tr>\n",
       "      <th>0</th>\n",
       "      <td>good</td>\n",
       "      <td>0</td>\n",
       "      <td>1</td>\n",
       "      <td>0</td>\n",
       "      <td>0</td>\n",
       "      <td>0</td>\n",
       "      <td>1</td>\n",
       "      <td>0</td>\n",
       "      <td>0</td>\n",
       "      <td>0</td>\n",
       "      <td>0</td>\n",
       "      <td>0</td>\n",
       "      <td>0</td>\n",
       "      <td>1</td>\n",
       "      <td>0</td>\n",
       "    </tr>\n",
       "    <tr>\n",
       "      <th>1</th>\n",
       "      <td>bad</td>\n",
       "      <td>1</td>\n",
       "      <td>0</td>\n",
       "      <td>0</td>\n",
       "      <td>0</td>\n",
       "      <td>0</td>\n",
       "      <td>0</td>\n",
       "      <td>0</td>\n",
       "      <td>1</td>\n",
       "      <td>0</td>\n",
       "      <td>1</td>\n",
       "      <td>0</td>\n",
       "      <td>0</td>\n",
       "      <td>0</td>\n",
       "      <td>0</td>\n",
       "    </tr>\n",
       "    <tr>\n",
       "      <th>2</th>\n",
       "      <td>good</td>\n",
       "      <td>0</td>\n",
       "      <td>0</td>\n",
       "      <td>0</td>\n",
       "      <td>1</td>\n",
       "      <td>0</td>\n",
       "      <td>1</td>\n",
       "      <td>0</td>\n",
       "      <td>0</td>\n",
       "      <td>0</td>\n",
       "      <td>0</td>\n",
       "      <td>1</td>\n",
       "      <td>0</td>\n",
       "      <td>0</td>\n",
       "      <td>0</td>\n",
       "    </tr>\n",
       "    <tr>\n",
       "      <th>3</th>\n",
       "      <td>good</td>\n",
       "      <td>0</td>\n",
       "      <td>1</td>\n",
       "      <td>0</td>\n",
       "      <td>0</td>\n",
       "      <td>0</td>\n",
       "      <td>0</td>\n",
       "      <td>0</td>\n",
       "      <td>1</td>\n",
       "      <td>0</td>\n",
       "      <td>0</td>\n",
       "      <td>1</td>\n",
       "      <td>0</td>\n",
       "      <td>0</td>\n",
       "      <td>0</td>\n",
       "    </tr>\n",
       "    <tr>\n",
       "      <th>4</th>\n",
       "      <td>bad</td>\n",
       "      <td>0</td>\n",
       "      <td>1</td>\n",
       "      <td>0</td>\n",
       "      <td>0</td>\n",
       "      <td>0</td>\n",
       "      <td>0</td>\n",
       "      <td>1</td>\n",
       "      <td>0</td>\n",
       "      <td>0</td>\n",
       "      <td>1</td>\n",
       "      <td>0</td>\n",
       "      <td>0</td>\n",
       "      <td>0</td>\n",
       "      <td>0</td>\n",
       "    </tr>\n",
       "  </tbody>\n",
       "</table>\n",
       "</div>"
      ],
      "text/plain": [
       "  class  checking_status_0<=X<200  checking_status_<0  checking_status_>=200  \\\n",
       "0  good                         0                   1                      0   \n",
       "1   bad                         1                   0                      0   \n",
       "2  good                         0                   0                      0   \n",
       "3  good                         0                   1                      0   \n",
       "4   bad                         0                   1                      0   \n",
       "\n",
       "   checking_status_no checking  credit_history_all paid  \\\n",
       "0                            0                        0   \n",
       "1                            0                        0   \n",
       "2                            1                        0   \n",
       "3                            0                        0   \n",
       "4                            0                        0   \n",
       "\n",
       "   credit_history_critical/other existing credit  \\\n",
       "0                                              1   \n",
       "1                                              0   \n",
       "2                                              1   \n",
       "3                                              0   \n",
       "4                                              0   \n",
       "\n",
       "   credit_history_delayed previously  credit_history_existing paid  \\\n",
       "0                                  0                             0   \n",
       "1                                  0                             1   \n",
       "2                                  0                             0   \n",
       "3                                  0                             1   \n",
       "4                                  1                             0   \n",
       "\n",
       "   credit_history_no credits/all paid  employment_1<=X<4  employment_4<=X<7  \\\n",
       "0                                   0                  0                  0   \n",
       "1                                   0                  1                  0   \n",
       "2                                   0                  0                  1   \n",
       "3                                   0                  0                  1   \n",
       "4                                   0                  1                  0   \n",
       "\n",
       "   employment_<1  employment_>=7  employment_unemployed  \n",
       "0              0               1                      0  \n",
       "1              0               0                      0  \n",
       "2              0               0                      0  \n",
       "3              0               0                      0  \n",
       "4              0               0                      0  "
      ]
     },
     "execution_count": 52,
     "metadata": {},
     "output_type": "execute_result"
    }
   ],
   "source": [
    "#The dataset which takes into account all the features that were previously run through in the SVM model in the prior \n",
    "#datasets to determine overall the performance of the SVM's classifier to view how all of the features influence whether\n",
    "#a credit loan applicant gets classified as good or bad\n",
    "\n",
    "merged_credit_data.head()"
   ]
  },
  {
   "cell_type": "code",
   "execution_count": 53,
   "id": "68702d23",
   "metadata": {},
   "outputs": [
    {
     "name": "stdout",
     "output_type": "stream",
     "text": [
      "<class 'pandas.core.frame.DataFrame'>\n",
      "RangeIndex: 1000 entries, 0 to 999\n",
      "Data columns (total 15 columns):\n",
      " #   Column                                         Non-Null Count  Dtype \n",
      "---  ------                                         --------------  ----- \n",
      " 0   class                                          1000 non-null   object\n",
      " 1   checking_status_0<=X<200                       1000 non-null   uint8 \n",
      " 2   checking_status_<0                             1000 non-null   uint8 \n",
      " 3   checking_status_>=200                          1000 non-null   uint8 \n",
      " 4   checking_status_no checking                    1000 non-null   uint8 \n",
      " 5   credit_history_all paid                        1000 non-null   uint8 \n",
      " 6   credit_history_critical/other existing credit  1000 non-null   uint8 \n",
      " 7   credit_history_delayed previously              1000 non-null   uint8 \n",
      " 8   credit_history_existing paid                   1000 non-null   uint8 \n",
      " 9   credit_history_no credits/all paid             1000 non-null   uint8 \n",
      " 10  employment_1<=X<4                              1000 non-null   uint8 \n",
      " 11  employment_4<=X<7                              1000 non-null   uint8 \n",
      " 12  employment_<1                                  1000 non-null   uint8 \n",
      " 13  employment_>=7                                 1000 non-null   uint8 \n",
      " 14  employment_unemployed                          1000 non-null   uint8 \n",
      "dtypes: object(1), uint8(14)\n",
      "memory usage: 21.6+ KB\n"
     ]
    }
   ],
   "source": [
    "merged_credit_data.info()"
   ]
  },
  {
   "cell_type": "code",
   "execution_count": 54,
   "id": "ed6ee87c",
   "metadata": {},
   "outputs": [],
   "source": [
    "X_4 = merged_credit_data.drop('class', axis=1)\n",
    "\n",
    "y_4 = merged_credit_data['class']"
   ]
  },
  {
   "cell_type": "code",
   "execution_count": 55,
   "id": "f752deb9",
   "metadata": {},
   "outputs": [],
   "source": [
    "X_train_4, X_test_4, y_train_4, y_test_4 = train_test_split(X_4, y_4, test_size=0.20)"
   ]
  },
  {
   "cell_type": "code",
   "execution_count": 57,
   "id": "4d9eb281",
   "metadata": {},
   "outputs": [],
   "source": [
    "svclassifier_11 = SVC(kernel='rbf')\n",
    "\n",
    "svclassifier_11.fit(X_train_4, y_train_4);"
   ]
  },
  {
   "cell_type": "code",
   "execution_count": 58,
   "id": "b703eea5",
   "metadata": {},
   "outputs": [],
   "source": [
    "y_pred_11 = svclassifier_11.predict(X_test_4)"
   ]
  },
  {
   "cell_type": "code",
   "execution_count": 59,
   "id": "26ced330",
   "metadata": {},
   "outputs": [
    {
     "name": "stdout",
     "output_type": "stream",
     "text": [
      "[[ 23  37]\n",
      " [ 24 116]]\n",
      "              precision    recall  f1-score   support\n",
      "\n",
      "         bad       0.49      0.38      0.43        60\n",
      "        good       0.76      0.83      0.79       140\n",
      "\n",
      "    accuracy                           0.69       200\n",
      "   macro avg       0.62      0.61      0.61       200\n",
      "weighted avg       0.68      0.69      0.68       200\n",
      "\n"
     ]
    }
   ],
   "source": [
    "print(confusion_matrix(y_test_4, y_pred_11))\n",
    "\n",
    "print(classification_report(y_test_4, y_pred_11))"
   ]
  }
 ],
 "metadata": {
  "kernelspec": {
   "display_name": "Python 3",
   "language": "python",
   "name": "python3"
  },
  "language_info": {
   "codemirror_mode": {
    "name": "ipython",
    "version": 3
   },
   "file_extension": ".py",
   "mimetype": "text/x-python",
   "name": "python",
   "nbconvert_exporter": "python",
   "pygments_lexer": "ipython3",
   "version": "3.8.8"
  }
 },
 "nbformat": 4,
 "nbformat_minor": 5
}
